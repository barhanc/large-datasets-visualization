{
 "cells": [
  {
   "cell_type": "code",
   "id": "48d3a77a",
   "metadata": {
    "ExecuteTime": {
     "end_time": "2025-06-09T11:16:38.339383Z",
     "start_time": "2025-06-09T11:16:36.614611Z"
    }
   },
   "source": [
    "import json\n",
    "\n",
    "f = open(\"dataset.json\", \"r\")\n",
    "articles = []\n",
    "\n",
    "for line in f.readlines():\n",
    "    x = json.loads(line.strip(\"\\n\"))\n",
    "    date = x['date'].split(\"-\")\n",
    "    x['date'] = {\n",
    "        'year': int(date[0]),\n",
    "        'month': int(date[1]),\n",
    "        'day': int(date[2])\n",
    "    }\n",
    "    \n",
    "    articles.append(x)\n",
    "\n",
    "f.close()\n",
    "print(articles[0])"
   ],
   "outputs": [
    {
     "name": "stdout",
     "output_type": "stream",
     "text": [
      "{'link': 'https://www.huffpost.com/entry/covid-boosters-uptake-us_n_632d719ee4b087fae6feaac9', 'headline': 'Over 4 Million Americans Roll Up Sleeves For Omicron-Targeted COVID Boosters', 'category': 'U.S. NEWS', 'short_description': 'Health experts said it is too early to predict whether demand would match up with the 171 million doses of the new boosters the U.S. ordered for the fall.', 'authors': 'Carla K. Johnson, AP', 'date': {'year': 2022, 'month': 9, 'day': 23}}\n"
     ]
    }
   ],
   "execution_count": 2
  },
  {
   "cell_type": "code",
   "id": "4ae987ab",
   "metadata": {
    "ExecuteTime": {
     "end_time": "2025-06-09T11:17:24.250813Z",
     "start_time": "2025-06-09T11:16:38.392940Z"
    }
   },
   "source": [
    "from typing import List, Dict\n",
    "\n",
    "import nltk\n",
    "import pandas as pd\n",
    "\n",
    "from nltk.corpus import stopwords\n",
    "from nltk.stem import WordNetLemmatizer\n",
    "from nltk.tokenize import word_tokenize\n",
    "\n",
    "nltk.download(\"punkt_tab\", quiet=True)\n",
    "nltk.download(\"punkt\", quiet=True)\n",
    "nltk.download(\"stopwords\", quiet=True)\n",
    "nltk.download(\"wordnet\", quiet=True)\n",
    "\n",
    "STOPWORDS = set(stopwords.words(\"english\"))\n",
    "LEMMATIZER = WordNetLemmatizer()\n",
    "\n",
    "def preprocess_texts(articles) -> List[List[str]]:\n",
    "\n",
    "    def _process(text: str) -> List[str]:\n",
    "        return [\n",
    "            LEMMATIZER.lemmatize(token)\n",
    "            for token in word_tokenize(text.lower())\n",
    "            if token.isalpha() and token not in STOPWORDS and len(token) > 2\n",
    "        ]\n",
    "\n",
    "    for article in articles:\n",
    "        article['processed_short_description'] = _process(article['short_description'])\n",
    "        article['processed_headline'] = _process(article['headline'])\n",
    "\n",
    "preprocess_texts(articles)"
   ],
   "outputs": [],
   "execution_count": 3
  },
  {
   "cell_type": "code",
   "id": "d8143f03",
   "metadata": {
    "ExecuteTime": {
     "end_time": "2025-06-09T11:17:29.911792Z",
     "start_time": "2025-06-09T11:17:24.256840Z"
    }
   },
   "source": [
    "with open(\"processed_articles.json\", \"w\", encoding=\"utf-8\") as out_f:\n",
    "    json.dump(articles, out_f, ensure_ascii=True, indent=4)"
   ],
   "outputs": [],
   "execution_count": 4
  },
  {
   "metadata": {
    "ExecuteTime": {
     "end_time": "2025-06-09T13:12:07.534951Z",
     "start_time": "2025-06-09T12:46:00.522753Z"
    }
   },
   "cell_type": "code",
   "source": [
    "import numpy as np\n",
    "from sentence_transformers import SentenceTransformer\n",
    "\n",
    "texts = [\n",
    "    \" \".join(article[\"processed_headline\"] + article[\"processed_short_description\"])\n",
    "    for article in articles\n",
    "]\n",
    "\n",
    "model = SentenceTransformer(\"distilbert-base-nli-mean-tokens\")\n",
    "embeddings = model.encode(texts, show_progress_bar=True)\n",
    "\n",
    "np.save(\"bert_embeddings.npy\", embeddings)"
   ],
   "id": "1acbc6c3b3fd474",
   "outputs": [
    {
     "name": "stderr",
     "output_type": "stream",
     "text": [
      "Batches: 100%|██████████| 6548/6548 [25:29<00:00,  4.28it/s]\n"
     ]
    }
   ],
   "execution_count": 5
  }
 ],
 "metadata": {
  "kernelspec": {
   "display_name": "venv",
   "language": "python",
   "name": "python3"
  },
  "language_info": {
   "codemirror_mode": {
    "name": "ipython",
    "version": 3
   },
   "file_extension": ".py",
   "mimetype": "text/x-python",
   "name": "python",
   "nbconvert_exporter": "python",
   "pygments_lexer": "ipython3",
   "version": "3.12.1"
  }
 },
 "nbformat": 4,
 "nbformat_minor": 5
}
